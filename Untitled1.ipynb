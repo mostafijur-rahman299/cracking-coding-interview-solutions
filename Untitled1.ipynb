{
 "cells": [
  {
   "cell_type": "code",
   "execution_count": 6,
   "id": "0b5e1b99",
   "metadata": {},
   "outputs": [
    {
     "name": "stdout",
     "output_type": "stream",
     "text": [
      " item swapped : 10 , 6\n"
     ]
    },
    {
     "ename": "NameError",
     "evalue": "name 'swap' is not defined",
     "output_type": "error",
     "traceback": [
      "\u001b[0;31m---------------------------------------------------------------------------\u001b[0m",
      "\u001b[0;31mNameError\u001b[0m                                 Traceback (most recent call last)",
      "Cell \u001b[0;32mIn[6], line 34\u001b[0m\n\u001b[1;32m     30\u001b[0m         quicksort(low, j)\n\u001b[1;32m     31\u001b[0m         quicksort(j\u001b[38;5;241m+\u001b[39m\u001b[38;5;241m1\u001b[39m, high)\n\u001b[0;32m---> 34\u001b[0m \u001b[43mquicksort\u001b[49m\u001b[43m(\u001b[49m\u001b[38;5;241;43m0\u001b[39;49m\u001b[43m,\u001b[49m\u001b[43m \u001b[49m\u001b[38;5;28;43mlen\u001b[39;49m\u001b[43m(\u001b[49m\u001b[43ma\u001b[49m\u001b[43m)\u001b[49m\u001b[38;5;241;43m-\u001b[39;49m\u001b[38;5;241;43m1\u001b[39;49m\u001b[43m)\u001b[49m\n\u001b[1;32m     36\u001b[0m \u001b[38;5;28mprint\u001b[39m(a)\n",
      "Cell \u001b[0;32mIn[6], line 28\u001b[0m, in \u001b[0;36mquicksort\u001b[0;34m(low, high)\u001b[0m\n\u001b[1;32m     26\u001b[0m \u001b[38;5;28;01mdef\u001b[39;00m \u001b[38;5;21mquicksort\u001b[39m(low, high):\n\u001b[1;32m     27\u001b[0m     \u001b[38;5;28;01mif\u001b[39;00m low \u001b[38;5;241m<\u001b[39m high:\n\u001b[0;32m---> 28\u001b[0m         j \u001b[38;5;241m=\u001b[39m \u001b[43mpartition\u001b[49m\u001b[43m(\u001b[49m\u001b[43mlow\u001b[49m\u001b[43m,\u001b[49m\u001b[43m \u001b[49m\u001b[43mhigh\u001b[49m\u001b[43m)\u001b[49m\n\u001b[1;32m     29\u001b[0m         \u001b[38;5;28mprint\u001b[39m(a)\n\u001b[1;32m     30\u001b[0m         quicksort(low, j)\n",
      "Cell \u001b[0;32mIn[6], line 17\u001b[0m, in \u001b[0;36mpartition\u001b[0;34m(left, right)\u001b[0m\n\u001b[1;32m     14\u001b[0m     \u001b[38;5;28;01melse\u001b[39;00m:\n\u001b[1;32m     15\u001b[0m         \u001b[38;5;28mprint\u001b[39m(\u001b[38;5;124m\"\u001b[39m\u001b[38;5;124m item swapped :\u001b[39m\u001b[38;5;124m\"\u001b[39m, a[leftPointer], \u001b[38;5;124m\"\u001b[39m\u001b[38;5;124m,\u001b[39m\u001b[38;5;124m\"\u001b[39m,\n\u001b[1;32m     16\u001b[0m               a[rightPointer])\n\u001b[0;32m---> 17\u001b[0m         \u001b[43mswap\u001b[49m(leftPointer, rightPointer)\n\u001b[1;32m     18\u001b[0m \u001b[38;5;28mprint\u001b[39m(\u001b[38;5;124m\"\u001b[39m\u001b[38;5;124m pivot swapped :\u001b[39m\u001b[38;5;124m\"\u001b[39m, a[leftPointer], \u001b[38;5;124m\"\u001b[39m\u001b[38;5;124m,\u001b[39m\u001b[38;5;124m\"\u001b[39m, a[right])\n\u001b[1;32m     19\u001b[0m swap(\n\u001b[1;32m     20\u001b[0m     leftPointer, right\n\u001b[1;32m     21\u001b[0m )  \u001b[38;5;66;03m# Swapping the pivot with the leftPointer (which is now at the correct position)\u001b[39;00m\n",
      "\u001b[0;31mNameError\u001b[0m: name 'swap' is not defined"
     ]
    }
   ],
   "source": [
    "a = [10, 5, 8, 9, 3, 6, 15, 12, 16]\n",
    "\n",
    "def partition(left, right):\n",
    "    pivot = a[left]\n",
    "    leftPointer = left\n",
    "    rightPointer = right - 1\n",
    "    while True:\n",
    "        while leftPointer <= right and a[leftPointer] < pivot:\n",
    "            leftPointer += 1\n",
    "        while rightPointer >= left and a[rightPointer] > pivot:\n",
    "            rightPointer -= 1\n",
    "        if leftPointer >= rightPointer:\n",
    "            break\n",
    "        else:\n",
    "            print(\" item swapped :\", a[leftPointer], \",\",\n",
    "                  a[rightPointer])\n",
    "            swap(leftPointer, rightPointer)\n",
    "    print(\" pivot swapped :\", a[leftPointer], \",\", a[right])\n",
    "    swap(\n",
    "        leftPointer, right\n",
    "    )  # Swapping the pivot with the leftPointer (which is now at the correct position)\n",
    "    print(\"Updated Array: \", end=\"\")\n",
    "    display()\n",
    "    return leftPointer\n",
    "\n",
    "def quicksort(low, high):\n",
    "    if low < high:\n",
    "        j = partition(low, high)\n",
    "        print(a)\n",
    "        quicksort(low, j)\n",
    "        quicksort(j+1, high)\n",
    "    \n",
    "    \n",
    "quicksort(0, len(a)-1)\n",
    "\n",
    "print(a)"
   ]
  },
  {
   "cell_type": "code",
   "execution_count": null,
   "id": "71d1a17b",
   "metadata": {},
   "outputs": [],
   "source": []
  },
  {
   "cell_type": "code",
   "execution_count": null,
   "id": "6bf85072",
   "metadata": {},
   "outputs": [],
   "source": []
  }
 ],
 "metadata": {
  "kernelspec": {
   "display_name": "Python 3 (ipykernel)",
   "language": "python",
   "name": "python3"
  },
  "language_info": {
   "codemirror_mode": {
    "name": "ipython",
    "version": 3
   },
   "file_extension": ".py",
   "mimetype": "text/x-python",
   "name": "python",
   "nbconvert_exporter": "python",
   "pygments_lexer": "ipython3",
   "version": "3.10.12"
  }
 },
 "nbformat": 4,
 "nbformat_minor": 5
}
