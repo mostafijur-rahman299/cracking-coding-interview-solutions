{
 "cells": [
  {
   "cell_type": "code",
   "execution_count": 11,
   "id": "799830ef",
   "metadata": {},
   "outputs": [
    {
     "name": "stdout",
     "output_type": "stream",
     "text": [
      "9\n",
      "90\n",
      "89\n",
      "8\n",
      "11\n"
     ]
    }
   ],
   "source": [
    "class Node:\n",
    "    def __init__(self, val, next_node=None):\n",
    "        self.val = val\n",
    "        self.next = next_node\n",
    "\n",
    "        \n",
    "class LinkedList:\n",
    "    def __init__(self, head=None):\n",
    "        self.head = head\n",
    "        \n",
    "    def print_node(self):\n",
    "        current = self.head\n",
    "        while current:\n",
    "            print(current.val)\n",
    "            current = current.next\n",
    "        \n",
    "    def append_item(self, data):\n",
    "        new_node = Node(data)\n",
    "        \n",
    "        if not self.head:\n",
    "            self.head = new_node\n",
    "            return\n",
    "        \n",
    "        current = self.head\n",
    "        while current.next:\n",
    "            current = current.next\n",
    "            \n",
    "        current.next = new_node\n",
    "        \n",
    "    def remove_duplicate(self):\n",
    "        if not self.head:\n",
    "            return\n",
    "        \n",
    "        unique_item = []\n",
    "        current = self.head\n",
    "        prev = self.head\n",
    "        \n",
    "        while current:\n",
    "            if current.val in unique_item:\n",
    "                prev.next = current.next\n",
    "                \n",
    "            unique_item.append(current.val)\n",
    "            prev = current\n",
    "            current = current.next\n",
    "            \n",
    "    def remove_duplicate_nodes_no_buffer(self):\n",
    "        current = self.head\n",
    "        \n",
    "        while current:\n",
    "            prev = current\n",
    "            next_node = current.next\n",
    "            while next_node:\n",
    "                if current.val == next_node.val:\n",
    "                    prev.next = next_node.next\n",
    "                next_node = next_node.next\n",
    "            current = current.next\n",
    "                    \n",
    "\n",
    "linked_list = LinkedList()\n",
    "\n",
    "\n",
    "linked_list.append_item(9)\n",
    "linked_list.append_item(9)\n",
    "linked_list.append_item(90)\n",
    "linked_list.append_item(89)\n",
    "linked_list.append_item(8)\n",
    "linked_list.append_item(11)\n",
    "linked_list.append_item(11)\n",
    "\n",
    "linked_list.remove_duplicate_nodes_no_buffer()\n",
    "\n",
    "linked_list.print_node()\n"
   ]
  },
  {
   "cell_type": "code",
   "execution_count": null,
   "id": "8c9bb25d",
   "metadata": {},
   "outputs": [],
   "source": []
  },
  {
   "cell_type": "code",
   "execution_count": null,
   "id": "94c88208",
   "metadata": {},
   "outputs": [],
   "source": []
  }
 ],
 "metadata": {
  "kernelspec": {
   "display_name": "Python 3 (ipykernel)",
   "language": "python",
   "name": "python3"
  },
  "language_info": {
   "codemirror_mode": {
    "name": "ipython",
    "version": 3
   },
   "file_extension": ".py",
   "mimetype": "text/x-python",
   "name": "python",
   "nbconvert_exporter": "python",
   "pygments_lexer": "ipython3",
   "version": "3.10.6"
  }
 },
 "nbformat": 4,
 "nbformat_minor": 5
}
