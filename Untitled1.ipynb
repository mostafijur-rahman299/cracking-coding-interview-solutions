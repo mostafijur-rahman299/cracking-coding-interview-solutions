{
 "cells": [
  {
   "cell_type": "code",
   "execution_count": 15,
   "id": "90824b82",
   "metadata": {},
   "outputs": [
    {
     "name": "stdout",
     "output_type": "stream",
     "text": [
      "9\n",
      "5\n",
      "[10, 3, 5, 8, 9, 6, 30, 15, 12, 16]\n"
     ]
    }
   ],
   "source": [
    "a = [10, 30, 5, 8, 9, 3, 6, 15, 12, 16]\n",
    "\n",
    "def partition(l, h):\n",
    "    pivot = a[l]\n",
    "    i, j = l, h\n",
    "    \n",
    "    print(j)\n",
    "        \n",
    "    while i < j:\n",
    "        while pivot > a[i]:\n",
    "            i += 1\n",
    "        while pivot < a[j]:\n",
    "            j -= 1\n",
    "            \n",
    "        a[i], a[j] = a[j], a[i]\n",
    "        \n",
    "    a[l], a[j] = a[j], a[l]\n",
    "    return j\n",
    "\n",
    "def quicksort(l, h):\n",
    "    if l < h:\n",
    "        j = partition(l, h)\n",
    "        \n",
    "#         quicksort(l, j)\n",
    "#         quicksort(j+1, h)\n",
    "        \n",
    "        \n",
    "quicksort(0, len(a)-1)\n",
    "\n",
    "print(a)"
   ]
  },
  {
   "cell_type": "code",
   "execution_count": null,
   "id": "a80b15f9",
   "metadata": {},
   "outputs": [],
   "source": []
  },
  {
   "cell_type": "code",
   "execution_count": null,
   "id": "4604bb9d",
   "metadata": {},
   "outputs": [],
   "source": []
  }
 ],
 "metadata": {
  "kernelspec": {
   "display_name": "Python 3 (ipykernel)",
   "language": "python",
   "name": "python3"
  },
  "language_info": {
   "codemirror_mode": {
    "name": "ipython",
    "version": 3
   },
   "file_extension": ".py",
   "mimetype": "text/x-python",
   "name": "python",
   "nbconvert_exporter": "python",
   "pygments_lexer": "ipython3",
   "version": "3.10.12"
  }
 },
 "nbformat": 4,
 "nbformat_minor": 5
}
