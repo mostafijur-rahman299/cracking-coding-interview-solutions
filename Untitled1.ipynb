{
 "cells": [
  {
   "cell_type": "code",
   "execution_count": 4,
   "id": "3ed77c9f",
   "metadata": {},
   "outputs": [
    {
     "name": "stdout",
     "output_type": "stream",
     "text": [
      "[7, 1, 6]\n",
      "[6, 1, 7]\n"
     ]
    }
   ],
   "source": [
    "class Node:\n",
    "    def __init__(self, data):\n",
    "        self.data = data\n",
    "        self.next = None\n",
    "    \n",
    "    \n",
    "class LinkedList:\n",
    "    def __init__(self, head = None):\n",
    "        self.head = head\n",
    "        \n",
    "    def print_nodes(self):\n",
    "        current = self.head\n",
    "        data = []\n",
    "        while current.next != None:\n",
    "            data.append(current.data)\n",
    "            current = current.next\n",
    "        data.append(current.data)\n",
    "        \n",
    "        print(data)\n",
    "        \n",
    "    def add_node(self, value):\n",
    "        node = Node(value)\n",
    "        \n",
    "        head = self.head\n",
    "        self.head = node\n",
    "        node.next = head\n",
    "    \n",
    "    def reverse(self):\n",
    "        current = self.head\n",
    "        reverse_list = LinkedList()\n",
    "        \n",
    "        while current:\n",
    "            reverse_list.add_node(current.data)\n",
    "            current = current.next\n",
    "        return reverse_list\n",
    "    \n",
    "    \n",
    "    \n",
    "\n",
    "list1 = LinkedList()\n",
    "\n",
    "list1.add_node(6)\n",
    "list1.add_node(1)\n",
    "list1.add_node(7)\n",
    "\n",
    "list1.print_nodes()\n",
    "\n",
    "list2 = list1.reverse()\n",
    "list2.print_nodes()\n"
   ]
  },
  {
   "cell_type": "code",
   "execution_count": null,
   "id": "64e5ce4d",
   "metadata": {},
   "outputs": [],
   "source": []
  }
 ],
 "metadata": {
  "kernelspec": {
   "display_name": "Python 3 (ipykernel)",
   "language": "python",
   "name": "python3"
  },
  "language_info": {
   "codemirror_mode": {
    "name": "ipython",
    "version": 3
   },
   "file_extension": ".py",
   "mimetype": "text/x-python",
   "name": "python",
   "nbconvert_exporter": "python",
   "pygments_lexer": "ipython3",
   "version": "3.10.6"
  }
 },
 "nbformat": 4,
 "nbformat_minor": 5
}
