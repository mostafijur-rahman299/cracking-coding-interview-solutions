{
 "cells": [
  {
   "cell_type": "code",
   "execution_count": 37,
   "id": "0359b546",
   "metadata": {},
   "outputs": [
    {
     "name": "stdout",
     "output_type": "stream",
     "text": [
      "2 [12, 15, 16, 8, 9, 3, 6, 5, 10]\n",
      "1 [15, 16, 12, 8, 9, 3, 6, 5, 10]\n",
      "0 [16, 15, 12, 8, 9, 3, 6, 5, 10]\n",
      "4 [16, 15, 12, 9, 10, 3, 6, 5, 8]\n",
      "3 [16, 15, 12, 10, 9, 3, 6, 5, 8]\n",
      "7 [16, 15, 12, 10, 9, 6, 5, 8, 3]\n",
      "5 [16, 15, 12, 10, 9, 8, 5, 6, 3]\n",
      "6 [16, 15, 12, 10, 9, 8, 6, 5, 3]\n"
     ]
    }
   ],
   "source": [
    "array = [10, 5, 12, 8, 9, 3, 6, 15, 16]\n",
    "\n",
    "\n",
    "\n",
    "def partition(a, l, r):\n",
    "    pivot = a[l]\n",
    "    i = l - 1\n",
    "    \n",
    "    for j in range(l, r):\n",
    "        if array[j] > pivot:\n",
    "            i += 1\n",
    "            a[i], a[j] = a[j], a[i]\n",
    "            \n",
    "    a[i+1], a[r] = a[r], a[i+1]\n",
    "\n",
    "    return i + 1\n",
    "\n",
    "def quicksort(arr, l, r):\n",
    "    if l < r:\n",
    "        pi = partition(arr, l, r)\n",
    "        print(pi, arr)\n",
    "        quicksort(arr, l, pi)\n",
    "        quicksort(arr, pi+1, r)\n",
    "    \n",
    "\n",
    "        \n",
    "quicksort(array, 0, 8)\n"
   ]
  },
  {
   "cell_type": "code",
   "execution_count": null,
   "id": "6195c884",
   "metadata": {},
   "outputs": [],
   "source": []
  }
 ],
 "metadata": {
  "kernelspec": {
   "display_name": "Python 3 (ipykernel)",
   "language": "python",
   "name": "python3"
  },
  "language_info": {
   "codemirror_mode": {
    "name": "ipython",
    "version": 3
   },
   "file_extension": ".py",
   "mimetype": "text/x-python",
   "name": "python",
   "nbconvert_exporter": "python",
   "pygments_lexer": "ipython3",
   "version": "3.10.12"
  }
 },
 "nbformat": 4,
 "nbformat_minor": 5
}
