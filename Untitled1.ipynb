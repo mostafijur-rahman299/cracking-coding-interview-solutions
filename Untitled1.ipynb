{
 "cells": [
  {
   "cell_type": "code",
   "execution_count": 10,
   "id": "2053d635",
   "metadata": {},
   "outputs": [
    {
     "name": "stdout",
     "output_type": "stream",
     "text": [
      "1\n",
      "2\n",
      "3\n",
      "4\n",
      "5\n",
      "7\n"
     ]
    }
   ],
   "source": [
    "class TreeNode:\n",
    "    def __init__(self, val):\n",
    "        self.val = val\n",
    "        self.left = None\n",
    "        self.right = None\n",
    "        \n",
    "def insert(root, val):\n",
    "    if not root:\n",
    "        root = TreeNode(val)\n",
    "        return root\n",
    "    \n",
    "    if root.val > val:\n",
    "        root.left = insert(root.left, val)\n",
    "    else:\n",
    "        root.right = insert(root.right, val)\n",
    "    return root\n",
    "        \n",
    "def array_to_bst(arr):\n",
    "    root = None\n",
    "    \n",
    "    for item in arr:\n",
    "        root = insert(root, item)\n",
    "    return root\n",
    "        \n",
    "root = array_to_bst([5,1,3,4,7,2])\n",
    "\n",
    "def search(root, key):\n",
    "    if root.val > key:\n",
    "        return search(root.left, key)\n",
    "    elif root.val < key:\n",
    "        return search()\n",
    "    "
   ]
  },
  {
   "cell_type": "code",
   "execution_count": null,
   "id": "30d652f1",
   "metadata": {},
   "outputs": [],
   "source": []
  }
 ],
 "metadata": {
  "kernelspec": {
   "display_name": "Python 3 (ipykernel)",
   "language": "python",
   "name": "python3"
  },
  "language_info": {
   "codemirror_mode": {
    "name": "ipython",
    "version": 3
   },
   "file_extension": ".py",
   "mimetype": "text/x-python",
   "name": "python",
   "nbconvert_exporter": "python",
   "pygments_lexer": "ipython3",
   "version": "3.10.6"
  }
 },
 "nbformat": 4,
 "nbformat_minor": 5
}
