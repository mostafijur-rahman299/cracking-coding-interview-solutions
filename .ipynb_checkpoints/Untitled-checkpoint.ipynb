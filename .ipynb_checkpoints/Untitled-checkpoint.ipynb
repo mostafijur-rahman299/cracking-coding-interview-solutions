{
 "cells": [
  {
   "cell_type": "code",
   "execution_count": 7,
   "id": "2532d604",
   "metadata": {},
   "outputs": [
    {
     "name": "stdout",
     "output_type": "stream",
     "text": [
      "[6, 3, 5, 8, 5, 10, 2, 1]\n",
      "[3, 2, 1, 5, 5, 6, 8, 10]\n",
      "0\n",
      "5\n",
      "5\n",
      "6\n",
      "8\n",
      "10\n",
      "[3, 2, 1, 5, 5, 6, 8, 10]\n"
     ]
    }
   ],
   "source": [
    "class Node:\n",
    "    def __init__(self, val):\n",
    "        self.val = val\n",
    "        self.next = None\n",
    "\n",
    "class LinkedList:\n",
    "    def __init__(self):\n",
    "        self.head = None\n",
    "        \n",
    "    def print_nodes(self):\n",
    "        current = self.head\n",
    "        data = []\n",
    "        while current:\n",
    "            data.append(current.val)\n",
    "            current = current.next\n",
    "            \n",
    "        print(data)\n",
    "\n",
    "    def add_node(self, val):\n",
    "        new_node = Node(val)\n",
    "        new_node.next = self.head\n",
    "        self.head = new_node\n",
    "            \n",
    "        \n",
    "\n",
    "linked_list = LinkedList()\n",
    "\n",
    "linked_list.add_node(1)\n",
    "linked_list.add_node(2)\n",
    "linked_list.add_node(10)\n",
    "linked_list.add_node(5)\n",
    "linked_list.add_node(8)\n",
    "linked_list.add_node(5)\n",
    "linked_list.add_node(3)\n",
    "linked_list.add_node(6)\n",
    "\n",
    "linked_list.print_nodes()\n",
    "\n",
    "linked_list.partition(5)\n",
    "\n",
    "linked_list.print_nodes()\n",
    "\n",
    "linked_list.partition_2(5)\n",
    "linked_list.print_nodes()\n",
    "\n",
    "\n",
    "\n"
   ]
  },
  {
   "cell_type": "code",
   "execution_count": null,
   "id": "310a6764",
   "metadata": {},
   "outputs": [],
   "source": []
  }
 ],
 "metadata": {
  "kernelspec": {
   "display_name": "Python 3 (ipykernel)",
   "language": "python",
   "name": "python3"
  },
  "language_info": {
   "codemirror_mode": {
    "name": "ipython",
    "version": 3
   },
   "file_extension": ".py",
   "mimetype": "text/x-python",
   "name": "python",
   "nbconvert_exporter": "python",
   "pygments_lexer": "ipython3",
   "version": "3.10.6"
  }
 },
 "nbformat": 4,
 "nbformat_minor": 5
}
