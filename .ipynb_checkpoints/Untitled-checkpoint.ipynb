{
 "cells": [
  {
   "cell_type": "code",
   "execution_count": 2,
   "id": "edd5bee5",
   "metadata": {},
   "outputs": [
    {
     "name": "stdout",
     "output_type": "stream",
     "text": [
      "11\n"
     ]
    }
   ],
   "source": [
    "class Node:\n",
    "    def __init__(self, data):\n",
    "        self.data = data\n",
    "        self.next = None\n",
    "    \n",
    "    \n",
    "class LinkedList:\n",
    "    def __init__(self, head = None):\n",
    "        self.head = head\n",
    "        \n",
    "    def print_nodes(self):\n",
    "        current = self.head\n",
    "        data = []\n",
    "        while current.next != None:\n",
    "            data.append(current.data)\n",
    "            current = current.next\n",
    "        data.append(current.data)\n",
    "        \n",
    "        print(data)\n",
    "        \n",
    "    def add_node(self, value):\n",
    "        if self.head == None:\n",
    "            self.head = Node(value)\n",
    "            return\n",
    "        \n",
    "        current = self.head\n",
    "        while current.next:\n",
    "            current = current.next\n",
    "            \n",
    "        current.next = Node(value)\n",
    "        \n",
    "    def print_kth_to_last_with_recursive(self, head, k):\n",
    "        if head is None:\n",
    "            return 0\n",
    "        index = self.print_kth_to_last_with_recursive(head.next, k) + 1\n",
    "        if index == k:\n",
    "            print(f\"{k} th to last node is {head.data}\")\n",
    "        return index\n",
    "    \n",
    "    def print_kth_to_last(self, k):\n",
    "        p1 = self.head\n",
    "        p2 = self.head\n",
    "        \n",
    "        i = 0\n",
    "        while i < k:\n",
    "            p1 = p1.next\n",
    "            i += 1\n",
    "            \n",
    "        while p1:\n",
    "            p1 = p1.next\n",
    "            p2 = p2.next\n",
    "        \n",
    "        print(p2.data)\n",
    "        \n",
    "linkedList = LinkedList()\n",
    "linkedList.add_node(4)\n",
    "linkedList.add_node(3)\n",
    "linkedList.add_node(7)\n",
    "linkedList.add_node(1)\n",
    "linkedList.add_node(5)\n",
    "linkedList.add_node(9)\n",
    "linkedList.add_node(11)\n",
    "\n",
    "linkedList.print_kth_to_last(1)\n",
    "\n",
    "        \n",
    "linkedList.print_nodes()\n",
    "\n",
    "# linkedList.print_kth_to_last_with_recursive(linkedList.head, 3)\n",
    "# linkedList.print_kth_to_last_with_recursive(3)\n"
   ]
  },
  {
   "cell_type": "code",
   "execution_count": null,
   "id": "0a755b28",
   "metadata": {},
   "outputs": [],
   "source": []
  }
 ],
 "metadata": {
  "kernelspec": {
   "display_name": "Python 3 (ipykernel)",
   "language": "python",
   "name": "python3"
  },
  "language_info": {
   "codemirror_mode": {
    "name": "ipython",
    "version": 3
   },
   "file_extension": ".py",
   "mimetype": "text/x-python",
   "name": "python",
   "nbconvert_exporter": "python",
   "pygments_lexer": "ipython3",
   "version": "3.10.6"
  }
 },
 "nbformat": 4,
 "nbformat_minor": 5
}
