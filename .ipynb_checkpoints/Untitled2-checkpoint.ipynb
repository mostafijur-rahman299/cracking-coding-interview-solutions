{
 "cells": [
  {
   "cell_type": "code",
   "execution_count": 4,
   "id": "843d528e",
   "metadata": {},
   "outputs": [
    {
     "name": "stdout",
     "output_type": "stream",
     "text": [
      "[3, 11, 8, 6, 5]\n",
      "[5, 6, 8, 11, 3]\n",
      "This is not a palindrom\n"
     ]
    }
   ],
   "source": [
    "class Node:\n",
    "    def __init__(self, val):\n",
    "        self.val = val\n",
    "        self.next = None\n",
    "        \n",
    "class LinkedList:\n",
    "    def __init__(self):\n",
    "        self.head = None\n",
    "        \n",
    "    def print(self):\n",
    "        current = self.head\n",
    "        data = []\n",
    "        while current:\n",
    "            data.append(current.val)\n",
    "            current = current.next\n",
    "        print(data)\n",
    "        \n",
    "    def add_node(self, val):\n",
    "        new_node = Node(val)\n",
    "        \n",
    "        if not self.head:\n",
    "            self.head = new_node\n",
    "            return\n",
    "        \n",
    "        temp_head = self.head\n",
    "        self.head = new_node\n",
    "        self.head.next = temp_head\n",
    "        \n",
    "    def intersect_linked_lists(head1, head2):\n",
    "        p1 = head1\n",
    "        p2 = head2\n",
    "\n",
    "        # While the two pointers are not equal, move them forward one node at a time.\n",
    "        while p1 != p2:\n",
    "            if p1 is None:\n",
    "              return None\n",
    "            p1 = p1.next\n",
    "            if p2 is None:\n",
    "              return None\n",
    "            p2 = p2.next\n",
    "\n",
    "        # The two pointers have now met, so they must be pointing to the intersection node.\n",
    "        return p1\n",
    "\n",
    "    \n",
    "        \n",
    "list1 = LinkedList()\n",
    "list1.add_node(5)\n",
    "list1.add_node(6)\n",
    "list1.add_node(8)\n",
    "list1.add_node(11)\n",
    "list1.add_node(3)\n",
    "\n",
    "list1.print()\n",
    "\n",
    "\n"
   ]
  },
  {
   "cell_type": "code",
   "execution_count": null,
   "id": "726ace63",
   "metadata": {},
   "outputs": [],
   "source": []
  }
 ],
 "metadata": {
  "kernelspec": {
   "display_name": "Python 3 (ipykernel)",
   "language": "python",
   "name": "python3"
  },
  "language_info": {
   "codemirror_mode": {
    "name": "ipython",
    "version": 3
   },
   "file_extension": ".py",
   "mimetype": "text/x-python",
   "name": "python",
   "nbconvert_exporter": "python",
   "pygments_lexer": "ipython3",
   "version": "3.10.6"
  }
 },
 "nbformat": 4,
 "nbformat_minor": 5
}
