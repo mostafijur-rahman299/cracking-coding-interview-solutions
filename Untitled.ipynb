{
 "cells": [
  {
   "cell_type": "code",
   "execution_count": 2,
   "id": "0eb98ebd",
   "metadata": {},
   "outputs": [
    {
     "data": {
      "text/plain": [
       "[1, 2, 3, 4, 5, 6]"
      ]
     },
     "execution_count": 2,
     "metadata": {},
     "output_type": "execute_result"
    }
   ],
   "source": [
    "# Input Data\n",
    "nums = [3,2,3,1,2,4,5,5,6]\n",
    "\n",
    "def quick_sort(nums):\n",
    "    if not nums or len(nums) == 1:\n",
    "        return nums\n",
    "    \n",
    "    pivot = nums[len(nums)//2]\n",
    "    \n",
    "    left = [item for item in nums if item < pivot]\n",
    "    right = [item for item in nums if item > pivot]\n",
    "        \n",
    "    return quick_sort(left) + [pivot] + quick_sort(right)\n",
    "\n",
    "quick_sort(nums)"
   ]
  },
  {
   "cell_type": "code",
   "execution_count": 3,
   "id": "07b0d663",
   "metadata": {},
   "outputs": [
    {
     "data": {
      "text/plain": [
       "0"
      ]
     },
     "execution_count": 3,
     "metadata": {},
     "output_type": "execute_result"
    }
   ],
   "source": []
  }
 ],
 "metadata": {
  "kernelspec": {
   "display_name": "Python 3 (ipykernel)",
   "language": "python",
   "name": "python3"
  },
  "language_info": {
   "codemirror_mode": {
    "name": "ipython",
    "version": 3
   },
   "file_extension": ".py",
   "mimetype": "text/x-python",
   "name": "python",
   "nbconvert_exporter": "python",
   "pygments_lexer": "ipython3",
   "version": "3.10.12"
  }
 },
 "nbformat": 4,
 "nbformat_minor": 5
}
