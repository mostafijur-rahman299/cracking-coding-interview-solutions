{
 "cells": [
  {
   "cell_type": "code",
   "execution_count": 45,
   "id": "37e4fe62",
   "metadata": {},
   "outputs": [
    {
     "name": "stdout",
     "output_type": "stream",
     "text": [
      "{0}\n"
     ]
    }
   ],
   "source": [
    "import collections\n",
    "\n",
    "routes = [[1,2,7],[3,6,7]]\n",
    "source = 1\n",
    "target = 6\n",
    "\n",
    "stopes = collections.defaultdict(set)\n",
    "for bus, route in enumerate(routes):\n",
    "    for stop in route:\n",
    "        stopes[stop].add(bus)\n",
    "\n",
    "        \n",
    "visited = set()\n",
    "queue = [(source, 0)]\n",
    "\n",
    "while queue:\n",
    "    current_stopes, bus_number = queue.pop(0)\n",
    "    \n",
    "    for route_index in stopes[current_stopes]:\n",
    "        for next_stop in routes[route_index]:\n",
    "            if next_stop == target:\n",
    "                bus_number += 1\n",
    "                break\n",
    "            \n",
    "            if route not in visited:\n",
    "                visited.add(next_stop)\n",
    "                queue.append((next_stop, bus_number + 1))\n",
    "        routes[route_index] = []"
   ]
  },
  {
   "cell_type": "code",
   "execution_count": null,
   "id": "d1064114",
   "metadata": {},
   "outputs": [],
   "source": []
  }
 ],
 "metadata": {
  "kernelspec": {
   "display_name": "Python 3 (ipykernel)",
   "language": "python",
   "name": "python3"
  },
  "language_info": {
   "codemirror_mode": {
    "name": "ipython",
    "version": 3
   },
   "file_extension": ".py",
   "mimetype": "text/x-python",
   "name": "python",
   "nbconvert_exporter": "python",
   "pygments_lexer": "ipython3",
   "version": "3.10.12"
  }
 },
 "nbformat": 4,
 "nbformat_minor": 5
}
