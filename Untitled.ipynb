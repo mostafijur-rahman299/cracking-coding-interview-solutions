{
 "cells": [
  {
   "cell_type": "code",
   "execution_count": 54,
   "id": "37e4fe62",
   "metadata": {},
   "outputs": [
    {
     "name": "stdout",
     "output_type": "stream",
     "text": [
      "[[], [], [], [], []]\n",
      "[[(2, 5)], [(1, 2)], [(2, 1)], [(0, 3)], []]\n"
     ]
    }
   ],
   "source": [
    "adjacencyList = [[] for _ in range(5)]\n",
    "\n",
    "print(adjacencyList)\n",
    "\n",
    "edges = [[0, 2, 5], [0, 1, 2], [1, 2, 1], [3, 0, 3]]\n",
    "\n",
    "for i in range(len(edges)):\n",
    "    adjacencyList[i].append((edges[i][1], edges[i][2]))\n",
    "    \n",
    "print(adjacencyList)\n"
   ]
  },
  {
   "cell_type": "code",
   "execution_count": null,
   "id": "d1064114",
   "metadata": {},
   "outputs": [],
   "source": []
  }
 ],
 "metadata": {
  "kernelspec": {
   "display_name": "Python 3 (ipykernel)",
   "language": "python",
   "name": "python3"
  },
  "language_info": {
   "codemirror_mode": {
    "name": "ipython",
    "version": 3
   },
   "file_extension": ".py",
   "mimetype": "text/x-python",
   "name": "python",
   "nbconvert_exporter": "python",
   "pygments_lexer": "ipython3",
   "version": "3.10.12"
  }
 },
 "nbformat": 4,
 "nbformat_minor": 5
}
