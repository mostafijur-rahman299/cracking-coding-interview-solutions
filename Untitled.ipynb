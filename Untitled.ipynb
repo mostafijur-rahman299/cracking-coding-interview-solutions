{
 "cells": [
  {
   "cell_type": "code",
   "execution_count": 17,
   "id": "473dcace",
   "metadata": {},
   "outputs": [
    {
     "name": "stdout",
     "output_type": "stream",
     "text": [
      "[5, 3, 6, 10, 20, 15, 16, 9]\n"
     ]
    }
   ],
   "source": [
    "arr = [10, 20, 5, 9, 3, 15, 16, 6]\n",
    "\n",
    "\n",
    "def partition(low, high, arr):\n",
    "    pivot = arr[high]\n",
    "    i = low-1\n",
    "    \n",
    "    for j in range(1, len(arr)):\n",
    "        if arr[j] <= pivot:\n",
    "            i += 1\n",
    "            arr[i], arr[j] = arr[j], arr[i]\n",
    "            \n",
    "    arr[i+1], arr[j] = arr[j], arr[i+1]\n",
    "    return arr\n",
    "\n",
    "partition(0, len(arr)-1, arr)\n",
    "\n",
    "print(arr)\n",
    "\n",
    "\n"
   ]
  },
  {
   "cell_type": "code",
   "execution_count": null,
   "id": "0eb67118",
   "metadata": {},
   "outputs": [],
   "source": []
  }
 ],
 "metadata": {
  "kernelspec": {
   "display_name": "Python 3 (ipykernel)",
   "language": "python",
   "name": "python3"
  },
  "language_info": {
   "codemirror_mode": {
    "name": "ipython",
    "version": 3
   },
   "file_extension": ".py",
   "mimetype": "text/x-python",
   "name": "python",
   "nbconvert_exporter": "python",
   "pygments_lexer": "ipython3",
   "version": "3.10.12"
  }
 },
 "nbformat": 4,
 "nbformat_minor": 5
}
