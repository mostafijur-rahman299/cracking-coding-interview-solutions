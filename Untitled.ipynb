{
 "cells": [
  {
   "cell_type": "code",
   "execution_count": 18,
   "id": "261a16aa",
   "metadata": {},
   "outputs": [],
   "source": [
    "class TreeNode:\n",
    "    def __init__(self, val=0, left=None, right=None):\n",
    "        self.val = val\n",
    "        self.left = left\n",
    "        self.right = right\n",
    "\n",
    "\n",
    "def build_tree(preorder):\n",
    "    if not preorder:\n",
    "        return None\n",
    "\n",
    "    val = preorder.pop(0)\n",
    "    if val == -1:  # represents a null node\n",
    "        return None\n",
    "\n",
    "    node = TreeNode(val)\n",
    "    node.left = build_tree(preorder)\n",
    "    node.right = build_tree(preorder)\n",
    "\n",
    "    return node\n",
    "\n",
    "\n",
    "# Pre-order traversal: [2, 3, 4, -1, -1, 5, -1, -1, 3, -1, 6, -1, -1]\n",
    "preorder = [2, 3, 4, -1, -1, 5, -1, -1, 3, -1, 6, -1, -1]\n",
    "\n",
    "root = build_tree(preorder)\n"
   ]
  },
  {
   "cell_type": "code",
   "execution_count": null,
   "id": "ae21d85d",
   "metadata": {},
   "outputs": [],
   "source": []
  }
 ],
 "metadata": {
  "kernelspec": {
   "display_name": "Python 3 (ipykernel)",
   "language": "python",
   "name": "python3"
  },
  "language_info": {
   "codemirror_mode": {
    "name": "ipython",
    "version": 3
   },
   "file_extension": ".py",
   "mimetype": "text/x-python",
   "name": "python",
   "nbconvert_exporter": "python",
   "pygments_lexer": "ipython3",
   "version": "3.10.6"
  }
 },
 "nbformat": 4,
 "nbformat_minor": 5
}
