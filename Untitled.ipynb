{
 "cells": [
  {
   "cell_type": "code",
   "execution_count": 48,
   "id": "1f2ff07b",
   "metadata": {},
   "outputs": [
    {
     "name": "stdout",
     "output_type": "stream",
     "text": [
      "[[4, 3, 2, 1], [8, 7, 6, 5], [12, 11, 10, 9], [16, 15, 14, 13]]\n",
      "[[4, 8, 12, 16], [3, 7, 11, 15], [2, 6, 10, 14], [1, 5, 9, 13]]\n"
     ]
    }
   ],
   "source": [
    "matrix = [\n",
    "    [1,2,3,4],\n",
    "    [5,6,7,8],\n",
    "    [9,10,11,12],\n",
    "    [13,14,15,16]\n",
    "]\n",
    "\n",
    "def reverse_matrix(matrix):\n",
    "    new_matrix = []\n",
    "    for index in range(len(matrix)):\n",
    "        new_matrix.append(matrix[index][::-1])\n",
    "    return new_matrix\n",
    "\n",
    "reversed_matrix = reverse_matrix(matrix)\n",
    "\n",
    "print(reversed_matrix)\n",
    "\n",
    "\n",
    "def transpose_matrix(matrix):\n",
    "    for i in range(len(matrix)):\n",
    "        for j in range(i, len(matrix[i])):\n",
    "            matrix[i][j], matrix[j][i] = matrix[j][i], matrix[i][j]\n",
    "    return matrix\n",
    "\n",
    "transposed_matrix = transpose_matrix(reversed_matrix)\n",
    "\n",
    "print(transposed_matrix)\n",
    "\n"
   ]
  },
  {
   "cell_type": "code",
   "execution_count": null,
   "id": "b14aef7b",
   "metadata": {},
   "outputs": [],
   "source": []
  }
 ],
 "metadata": {
  "kernelspec": {
   "display_name": "Python 3 (ipykernel)",
   "language": "python",
   "name": "python3"
  },
  "language_info": {
   "codemirror_mode": {
    "name": "ipython",
    "version": 3
   },
   "file_extension": ".py",
   "mimetype": "text/x-python",
   "name": "python",
   "nbconvert_exporter": "python",
   "pygments_lexer": "ipython3",
   "version": "3.10.6"
  }
 },
 "nbformat": 4,
 "nbformat_minor": 5
}
