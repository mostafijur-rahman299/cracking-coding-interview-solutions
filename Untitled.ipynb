{
 "cells": [
  {
   "cell_type": "code",
   "execution_count": null,
   "id": "9aa3041f",
   "metadata": {},
   "outputs": [],
   "source": [
    "class TreeOneStack:\n",
    "    def __init__(self, stack_size):\n",
    "        self.stack_size = stack_size\n",
    "        self.arr = [None] * stack_size * 3\n",
    "        self.tops = [-1, -1, -1]\n",
    "        \n",
    "    def push(self, stack_num, value):\n",
    "        if self.is_full():\n",
    "            return \"Stack is full\"\n",
    "        if stack_num < 0 || stack_num > 2:\n",
    "            return \"Invalid stack number\"\n",
    "        self.tops[stack_num] += 1\n",
    "        self.arr[self.index_of_top(stack_num)] = value\n",
    "        \n",
    "    def pop(self, stack_num):\n",
    "        if self.is_empty(stack_num):\n",
    "            return \"Stack is empty\"\n",
    "        \n",
    "    def index_of_top(self, stack_num):\n",
    "        return stack_num * self.stack_size + self.tops[stack_num]\n",
    "        \n",
    "    def is_full(self, stack_num):\n",
    "        return self.tops[stack_num] == self.stack_size\n",
    "        \n",
    "    \n",
    "    "
   ]
  }
 ],
 "metadata": {
  "kernelspec": {
   "display_name": "Python 3 (ipykernel)",
   "language": "python",
   "name": "python3"
  },
  "language_info": {
   "codemirror_mode": {
    "name": "ipython",
    "version": 3
   },
   "file_extension": ".py",
   "mimetype": "text/x-python",
   "name": "python",
   "nbconvert_exporter": "python",
   "pygments_lexer": "ipython3",
   "version": "3.10.6"
  }
 },
 "nbformat": 4,
 "nbformat_minor": 5
}
