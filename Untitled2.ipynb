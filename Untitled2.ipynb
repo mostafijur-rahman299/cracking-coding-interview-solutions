{
 "cells": [
  {
   "cell_type": "code",
   "execution_count": 5,
   "id": "bfc1609d",
   "metadata": {},
   "outputs": [
    {
     "name": "stdout",
     "output_type": "stream",
     "text": [
      "1\n",
      "2\n",
      "3\n",
      "4\n",
      "5\n",
      "7\n",
      "1\n",
      "2\n",
      "3\n",
      "5\n",
      "7\n"
     ]
    }
   ],
   "source": [
    "class TreeNode:\n",
    "    def __init__(self, val):\n",
    "        self.val = val\n",
    "        self.left = None\n",
    "        self.right = None\n",
    "        \n",
    "def insert(root, val):\n",
    "    if not root:\n",
    "        return TreeNode(val)\n",
    "\n",
    "    if root.val > val:\n",
    "        root.left = insert(root.left, val)\n",
    "    elif root.val < val:\n",
    "        root.right = insert(root.right, val)\n",
    "    return root\n",
    "\n",
    "def array_to_bst(arr):\n",
    "    if not arr:\n",
    "        return None\n",
    "    \n",
    "    root = None\n",
    "    for item in arr:\n",
    "        root = insert(root, item)\n",
    "        \n",
    "    return root\n",
    "\n",
    "root = array_to_bst([5,1,3,4,7,2])\n",
    "\n",
    "\n",
    "def in_order_traversing(root):\n",
    "    if not root:\n",
    "        return\n",
    "    \n",
    "    in_order_traversing(root.left)\n",
    "    print(root.val)\n",
    "    in_order_traversing(root.right)\n",
    "    \n",
    "in_order_traversing(root)\n",
    "\n",
    "\n",
    "def delete(root, val):\n",
    "    if root.val > val:\n",
    "        root.left = delete(root.left, val)\n",
    "    elif root.val < val:\n",
    "        root.right = delete(root.right, val)\n",
    "    else: # root.val == val\n",
    "        # case 1\n",
    "        if root.left == None and root.right == None:\n",
    "            return None\n",
    "        elif root.left == None:\n",
    "            return root.right\n",
    "        elif root.right == None:\n",
    "            return root.left\n",
    "        \n",
    "        inOrderSuccessor = in_order_successor(root.right)\n",
    "        root.data = inOrderSuccessor.data\n",
    "        root.right = delete(root.right, inOrderSuccessor.data)\n",
    "        \n",
    "    return root\n",
    "\n",
    "def in_order_successor(root):\n",
    "    while root.left:\n",
    "        root = root.left\n",
    "    return root\n",
    "\n",
    "delete(root, 4)\n",
    "\n",
    "in_order_traversing(root)\n"
   ]
  },
  {
   "cell_type": "code",
   "execution_count": null,
   "id": "dd7a538d",
   "metadata": {},
   "outputs": [],
   "source": []
  }
 ],
 "metadata": {
  "kernelspec": {
   "display_name": "Python 3 (ipykernel)",
   "language": "python",
   "name": "python3"
  },
  "language_info": {
   "codemirror_mode": {
    "name": "ipython",
    "version": 3
   },
   "file_extension": ".py",
   "mimetype": "text/x-python",
   "name": "python",
   "nbconvert_exporter": "python",
   "pygments_lexer": "ipython3",
   "version": "3.10.6"
  }
 },
 "nbformat": 4,
 "nbformat_minor": 5
}
