{
 "cells": [
  {
   "cell_type": "code",
   "execution_count": null,
   "id": "d3d52b1b",
   "metadata": {},
   "outputs": [],
   "source": [
    "class Stack:\n",
    "    def __init__(self):\n",
    "        self.arr = []\n",
    "        self.local_min = 0\n",
    "        \n",
    "    def push(self, val):\n",
    "        if self.local_min > val:\n",
    "            self.local_min = val\n",
    "            \n",
    "        node = Node(val, self.local_min)\n",
    "        self.arr.append(node)\n",
    "        \n",
    "    def pop(self):\n",
    "        if not self.arr:\n",
    "            print(\"Opps!! Stack is empty\")\n",
    "            return\n",
    "        \n",
    "        self.arr.pop()\n",
    "        \n",
    "        if self.arr:\n",
    "            self.local_min = self.arr[len(self.arr)-1].local_min\n",
    "        else:\n",
    "            self.local_min = 0\n",
    "\n",
    "\n",
    "class Node:\n",
    "    def __init__(self, val, local_min):\n",
    "        self.val = val\n",
    "        self.local_min\n",
    "    "
   ]
  },
  {
   "cell_type": "code",
   "execution_count": null,
   "id": "31bc8154",
   "metadata": {},
   "outputs": [],
   "source": []
  }
 ],
 "metadata": {
  "kernelspec": {
   "display_name": "Python 3 (ipykernel)",
   "language": "python",
   "name": "python3"
  },
  "language_info": {
   "codemirror_mode": {
    "name": "ipython",
    "version": 3
   },
   "file_extension": ".py",
   "mimetype": "text/x-python",
   "name": "python",
   "nbconvert_exporter": "python",
   "pygments_lexer": "ipython3",
   "version": "3.10.6"
  }
 },
 "nbformat": 4,
 "nbformat_minor": 5
}
