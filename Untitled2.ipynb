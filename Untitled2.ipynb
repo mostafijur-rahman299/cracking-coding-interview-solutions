{
 "cells": [
  {
   "cell_type": "code",
   "execution_count": 7,
   "id": "aa2e8989",
   "metadata": {},
   "outputs": [
    {
     "name": "stdout",
     "output_type": "stream",
     "text": [
      "2\n",
      "3\n",
      "4\n",
      "None\n",
      "[-1, -1, 5, -1, -1, 3, -1, 6, -1, -1]\n"
     ]
    }
   ],
   "source": [
    "preorder = [2, 3, 4, -1, -1, 5, -1, -1, 3, -1, 6, -1, -1]\n",
    "\n",
    "\n",
    "\n",
    "class TreeNode:\n",
    "    def __init__(self, val):\n",
    "        self.val = val\n",
    "        self.left = None\n",
    "        self.right = None\n",
    "        \n",
    "\n",
    "def build_preorder_tree(arr):\n",
    "    if not arr:\n",
    "        return None\n",
    "    \n",
    "    item = arr.pop(0)\n",
    "    if item == -1:\n",
    "        return None\n",
    "    \n",
    "    root = TreeNode(item)\n",
    "    root.left = build_preorder_tree(arr)\n",
    "    root.right = build_preorder_tree(arr)\n",
    "    return root\n",
    "\n",
    "tree = build_preorder_tree(preorder)\n",
    "\n",
    "\n",
    "def preorder_traversal(root):\n",
    "    if not root:\n",
    "        return\n",
    "    \n",
    "    print(root.val)\n",
    "    preorder_traversal(root.left)\n",
    "    preorder_traversal(root.right)\n",
    "\n",
    "\n",
    "print(preorder_traversal(tree))\n"
   ]
  },
  {
   "cell_type": "code",
   "execution_count": null,
   "id": "76a9506d",
   "metadata": {},
   "outputs": [],
   "source": []
  }
 ],
 "metadata": {
  "kernelspec": {
   "display_name": "Python 3 (ipykernel)",
   "language": "python",
   "name": "python3"
  },
  "language_info": {
   "codemirror_mode": {
    "name": "ipython",
    "version": 3
   },
   "file_extension": ".py",
   "mimetype": "text/x-python",
   "name": "python",
   "nbconvert_exporter": "python",
   "pygments_lexer": "ipython3",
   "version": "3.10.6"
  }
 },
 "nbformat": 4,
 "nbformat_minor": 5
}
